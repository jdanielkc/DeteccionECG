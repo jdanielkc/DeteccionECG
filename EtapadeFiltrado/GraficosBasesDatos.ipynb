{
 "cells": [
  {
   "cell_type": "code",
   "execution_count": 6,
   "metadata": {},
   "outputs": [
    {
     "name": "stdout",
     "output_type": "stream",
     "text": [
      "Entrenamiento\n",
      "(7063, 51, 241, 2)\n",
      "(360, 51, 241, 2)\n",
      "(1328, 51, 241, 2)\n",
      "(667, 51, 241, 2)\n",
      "(657, 51, 241, 2)\n",
      "\n",
      "Testeo:\n",
      "(5165, 51, 241, 2)\n",
      "(60, 51, 241, 2)\n",
      "(121, 51, 241, 2)\n",
      "(392, 51, 241, 2)\n",
      "(275, 51, 241, 2)\n"
     ]
    }
   ],
   "source": [
    "import numpy as np\n",
    "import os\n",
    "import tensorflow as tf\n",
    "import random as python_random\n",
    "np.random.seed(123)\n",
    "tf.random.set_seed(11)\n",
    "python_random.seed(123)\n",
    "os.environ['PYTHONHASHSEED'] = '0'\n",
    "\n",
    "#Entrenamiento\n",
    "path='C:\\\\Users\\jdani\\\\Desktop\\\\Trabajo de grado\\\\BDConEspectrograma2\\\\MatricesNumpyGuardadas_NA\\\\ECG_'\n",
    "#importando patologias\n",
    "ECG_Normal_Original=np.load(path+'Normal\\\\ECG_Normal_Original.npy')\n",
    "ECG_SBR_Original=np.load(path+'SBR\\\\ECG_SBR_Original.npy')\n",
    "ECG_AFIB_Original=np.load(path+'AFIB\\\\ECG_AFIB_Original.npy')\n",
    "ECG_STD_Original=np.load(path+'STD\\\\ECG_STD_Original.npy')\n",
    "ECG_STE_Original=np.load(path+'STE\\\\ECG_STE_Original.npy')\n",
    "\n",
    "print(\"Entrenamiento\")\n",
    "print(ECG_Normal_Original.shape)\n",
    "print(ECG_SBR_Original.shape)\n",
    "print(ECG_AFIB_Original.shape)\n",
    "print(ECG_STD_Original.shape)\n",
    "print(ECG_STE_Original.shape)\n",
    "\n",
    "#Testeo\n",
    "\n",
    "# load your data using this function\n",
    "path='C:\\\\Users\\jdani\\\\Desktop\\\\Trabajo de grado\\\\BDConEspectrograma2\\\\MatricesNumpyGuardadas_NA\\\\ECG_'\n",
    "#importando patologias\n",
    "ECG_Normal_Test=np.load(path+'Normal\\\\ECG_Normal_test.npy')\n",
    "ECG_SBR_Test=np.load(path+'SBR\\\\ECG_SBR_Original.npy')\n",
    "ECG_SBR_Test=ECG_SBR_Test[300:360,:,:]\n",
    "ECG_AFIB_Test=np.load(path+'AFIB\\\\ECG_AFIB_test.npy')\n",
    "ECG_STD_Test=np.load(path+'STD\\\\ECG_STD_test.npy')\n",
    "ECG_STE_Test=np.load(path+'STE\\\\ECG_STE_test.npy')\n",
    "\n",
    "print(\"\\nTesteo:\")\n",
    "print(ECG_Normal_Test.shape)\n",
    "print(ECG_SBR_Test.shape)\n",
    "print(ECG_AFIB_Test.shape)\n",
    "print(ECG_STD_Test.shape)\n",
    "print(ECG_STE_Test.shape)"
   ]
  }
 ],
 "metadata": {
  "kernelspec": {
   "display_name": "Python 3",
   "language": "python",
   "name": "python3"
  },
  "language_info": {
   "codemirror_mode": {
    "name": "ipython",
    "version": 3
   },
   "file_extension": ".py",
   "mimetype": "text/x-python",
   "name": "python",
   "nbconvert_exporter": "python",
   "pygments_lexer": "ipython3",
   "version": "3.10.9"
  },
  "orig_nbformat": 4
 },
 "nbformat": 4,
 "nbformat_minor": 2
}
